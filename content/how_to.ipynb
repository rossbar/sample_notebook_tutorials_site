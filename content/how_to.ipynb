{
 "cells": [
  {
   "cell_type": "markdown",
   "metadata": {},
   "source": [
    "# How to \n",
    "\n",
    "NumPy stands for Numerical Python. NumPy is a python library used for working with arrays. It also has functions for working in domain of linear algebra, fourier transform, and matrices.\n",
    "Here is the How to section for doing in NumPy way. \n",
    "\n",
    "To know more about NumPy please check the [official documentation](https://numpy.org/doc/)."
   ]
  },
  {
   "cell_type": "markdown",
   "metadata": {},
   "source": [
    "## How to import NumPy?\n",
    "\n",
    "Before importing NumPy we should make sure NumPy is installed locally in your device. If not, you have two  major ways to install NumPy in your device - with the help of Python wheels or the Anaconda Python distribution.\n",
    "\n",
    "Using any of these commands `pip install numpy` or `conda install numpy` in command prompt will install NumPy."
   ]
  },
  {
   "cell_type": "code",
   "execution_count": 1,
   "metadata": {},
   "outputs": [],
   "source": [
    "import numpy as np"
   ]
  },
  {
   "cell_type": "markdown",
   "metadata": {},
   "source": [
    "## How to check the installed version of Numpy?\n",
    "\n",
    "Different projects may require different version. It is safe to check which version of NumPy is installed."
   ]
  },
  {
   "cell_type": "code",
   "execution_count": 2,
   "metadata": {},
   "outputs": [
    {
     "data": {
      "text/plain": [
       "'1.18.1'"
      ]
     },
     "execution_count": 2,
     "metadata": {},
     "output_type": "execute_result"
    }
   ],
   "source": [
    "np.__version__"
   ]
  },
  {
   "cell_type": "markdown",
   "metadata": {},
   "source": [
    "## How to make NumPy Arrays?\n",
    "\n",
    "For making a NumPy array, in general the function `np.array()` can be used. A list needed to be passed to it. Also for precising the array more, data type can be specified. \n",
    "\n",
    "To know more about Data types check [here](https://numpy.org/doc/stable/user/basics.types.html)\n",
    "\n",
    "Knowledge of data types needed when one need to control how data is saved in memory and on the disk, especially, while working with a large amount of data."
   ]
  },
  {
   "cell_type": "markdown",
   "metadata": {},
   "source": [
    "### How to create a One Dimensional NumPy Array?\n",
    "\n",
    "Here is three functions can be used to create an One Dimensional Array. \n",
    "\n",
    " 1. **array() function**\n",
    "\n",
    "    [Numpy array() functions](https://numpy.org/devdocs/reference/generated/numpy.array.html) takes a list of elements as argument and returns a one-dimensional array.\n",
    "\n",
    "2. **arange() function**\n",
    "\n",
    "    [Numpy arange() function](https://numpy.org/devdocs/reference/generated/numpy.arange.html#numpy.arange) takes start, end of a range and the interval as arguments and returns a one-dimensional array.\n",
    "    \n",
    "\n",
    "3. **linspace() function**\n",
    "\n",
    "    [Numpy linspace() functions](https://numpy.org/devdocs/reference/generated/numpy.linspace.html#numpy.linspace) takes start, end and the number of elements to be created as arguments and creates a one-dimensional array."
   ]
  },
  {
   "cell_type": "code",
   "execution_count": 3,
   "metadata": {},
   "outputs": [
    {
     "name": "stdout",
     "output_type": "stream",
     "text": [
      "\n",
      "Array was created using array() function [0 1 2 3 4 5 6 7 8 9]\n",
      "\n",
      "Array was created using arange() function [0 1 2 3 4 5 6 7 8 9]\n",
      "\n",
      "Array was created using linspace() function [ 0.  1.  2.  3.  4.  5.  6.  7.  8.  9. 10.]\n"
     ]
    }
   ],
   "source": [
    "#create array using array() function\n",
    "array = np.array([0, 1, 2, 3, 4, 5, 6, 7, 8, 9])\n",
    "print('\\nArray was created using array() function', array) \n",
    "\n",
    "#create array using arange() function\n",
    "# array starts with 0 and continues till 10 in the interval of 1\n",
    "arrange_array  = np.arange(0, 10, 1) \n",
    "print('\\nArray was created using arange() function', arrange_array)\n",
    "\n",
    "#create array using linspace() function\n",
    "# array starts with 0, continues till 10 and  the number of elements are 11\n",
    "linspace_array = np.linspace(0, 10, 11)\n",
    "print('\\nArray was created using linspace() function', linspace_array)"
   ]
  },
  {
   "cell_type": "markdown",
   "metadata": {},
   "source": [
    "### How to create a boolean array?\n",
    "\n",
    "There are three ways to create a boolean array in NumPy:\n",
    "\n",
    "1. **dtype function**\n",
    "\n",
    "    The [dtype () function](https://numpy.org/devdocs/reference/generated/numpy.dtype.html) is used to create a data type object. A boolean array can be created by using `dtype=bool` while creating the array. \n",
    "    \n",
    "Values other than 0, None, False or empty strings are considered True."
   ]
  },
  {
   "cell_type": "code",
   "execution_count": 4,
   "metadata": {},
   "outputs": [
    {
     "data": {
      "text/plain": [
       "array([[ True,  True,  True],\n",
       "       [ True,  True,  True]])"
      ]
     },
     "execution_count": 4,
     "metadata": {},
     "output_type": "execute_result"
    }
   ],
   "source": [
    "#create numpy array \n",
    "np.full((2, 3), True, dtype=bool)\n",
    "\n",
    "np.ones((2,3), dtype=bool)"
   ]
  },
  {
   "cell_type": "markdown",
   "metadata": {},
   "source": [
    "We can do it in another way: "
   ]
  },
  {
   "cell_type": "code",
   "execution_count": 5,
   "metadata": {},
   "outputs": [
    {
     "data": {
      "text/plain": [
       "array([[ True,  True,  True],\n",
       "       [ True,  True,  True]])"
      ]
     },
     "execution_count": 5,
     "metadata": {},
     "output_type": "execute_result"
    }
   ],
   "source": [
    "np.ones((2,3), dtype=bool)"
   ]
  },
  {
   "cell_type": "markdown",
   "metadata": {},
   "source": [
    "**2. comparison**\n",
    "\n",
    "The Python [Numpy comparison](https://numpy.org/doc/stable/reference/routines.logic.html#comparison) operators and functions used to compare the array items and returns Boolean True or false. "
   ]
  },
  {
   "cell_type": "code",
   "execution_count": 6,
   "metadata": {},
   "outputs": [
    {
     "name": "stdout",
     "output_type": "stream",
     "text": [
      "\n",
      "Greater Than 0 =  [False  True  True  True  True  True  True  True  True  True]\n",
      "\n",
      "Greater Than 1 =  [False False False False  True  True  True  True  True  True]\n",
      "\n",
      "Greater Than 2 =  [False False False False False False False False  True  True]\n"
     ]
    }
   ],
   "source": [
    "array = np.array([0, 1, 2, 3, 4, 5, 6, 7, 8, 9])\n",
    "\n",
    "print('\\nGreater Than 0 = ', np.greater(array, 0))\n",
    "print('\\nGreater Than 1 = ', np.greater(array, 3))\n",
    "print('\\nGreater Than 2 = ', np.greater(array, 7))"
   ]
  },
  {
   "cell_type": "markdown",
   "metadata": {},
   "source": [
    "Here the elements are been checking in an array that are greater than `0`, greater than `3` and `7`. If True, True returned otherwise, False returned. "
   ]
  },
  {
   "cell_type": "markdown",
   "metadata": {},
   "source": [
    "**3. astype function**\n",
    "\n",
    "[The astype() function](https://numpy.org/devdocs/reference/generated/numpy.char.chararray.astype.html) creates a copy of the array, and allows to specify the data type as a parameter. Here, data type can be changed from other data type for example, from integer to boolean."
   ]
  },
  {
   "cell_type": "code",
   "execution_count": 7,
   "metadata": {},
   "outputs": [
    {
     "name": "stdout",
     "output_type": "stream",
     "text": [
      "[False  True  True  True  True  True  True  True  True  True]\n",
      "bool\n"
     ]
    }
   ],
   "source": [
    "array = np.array([0, 1, 2, 3, 4, 5, 6, 7, 8, 9])\n",
    "\n",
    "#Converting Data Type from Integer to boolean\n",
    "new_array = array.astype(bool)\n",
    "\n",
    "print(new_array)\n",
    "print(new_array.dtype)"
   ]
  }
 ],
 "metadata": {
  "kernelspec": {
   "display_name": "Python 3",
   "language": "python",
   "name": "python3"
  },
  "language_info": {
   "codemirror_mode": {
    "name": "ipython",
    "version": 3
   },
   "file_extension": ".py",
   "mimetype": "text/x-python",
   "name": "python",
   "nbconvert_exporter": "python",
   "pygments_lexer": "ipython3",
   "version": "3.7.6"
  }
 },
 "nbformat": 4,
 "nbformat_minor": 4
}
